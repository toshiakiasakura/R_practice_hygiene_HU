{
 "cells": [
  {
   "cell_type": "markdown",
   "id": "a1884e01-23cc-4977-ae22-b61c7a841b1b",
   "metadata": {},
   "source": [
    "# R and Python comparison"
   ]
  },
  {
   "cell_type": "markdown",
   "id": "8f2d3e67-e125-4249-9c25-da8c9bef325e",
   "metadata": {},
   "source": [
    "## Basic command"
   ]
  },
  {
   "cell_type": "code",
   "execution_count": 68,
   "id": "356d5f83-8e5e-4627-98c2-9487f6a9a331",
   "metadata": {},
   "outputs": [
    {
     "data": {
      "text/html": [
       "7"
      ],
      "text/latex": [
       "7"
      ],
      "text/markdown": [
       "7"
      ],
      "text/plain": [
       "[1] 7"
      ]
     },
     "metadata": {},
     "output_type": "display_data"
    },
    {
     "data": {
      "text/html": [
       "-1"
      ],
      "text/latex": [
       "-1"
      ],
      "text/markdown": [
       "-1"
      ],
      "text/plain": [
       "[1] -1"
      ]
     },
     "metadata": {},
     "output_type": "display_data"
    },
    {
     "data": {
      "text/html": [
       "12"
      ],
      "text/latex": [
       "12"
      ],
      "text/markdown": [
       "12"
      ],
      "text/plain": [
       "[1] 12"
      ]
     },
     "metadata": {},
     "output_type": "display_data"
    },
    {
     "data": {
      "text/html": [
       "0.75"
      ],
      "text/latex": [
       "0.75"
      ],
      "text/markdown": [
       "0.75"
      ],
      "text/plain": [
       "[1] 0.75"
      ]
     },
     "metadata": {},
     "output_type": "display_data"
    },
    {
     "data": {
      "text/html": [
       "81"
      ],
      "text/latex": [
       "81"
      ],
      "text/markdown": [
       "81"
      ],
      "text/plain": [
       "[1] 81"
      ]
     },
     "metadata": {},
     "output_type": "display_data"
    },
    {
     "data": {
      "text/html": [
       "3"
      ],
      "text/latex": [
       "3"
      ],
      "text/markdown": [
       "3"
      ],
      "text/plain": [
       "[1] 3"
      ]
     },
     "metadata": {},
     "output_type": "display_data"
    },
    {
     "data": {
      "text/html": [
       "24"
      ],
      "text/latex": [
       "24"
      ],
      "text/markdown": [
       "24"
      ],
      "text/plain": [
       "[1] 24"
      ]
     },
     "metadata": {},
     "output_type": "display_data"
    }
   ],
   "source": [
    "# Arithmetic operators\n",
    "a <- 1 \n",
    "a = 3\n",
    "b = 4 \n",
    "\n",
    "a + b \n",
    "a - b \n",
    "a * b \n",
    "a / b \n",
    "a ^ b\n",
    "a %% b\n",
    "factorial(b)"
   ]
  },
  {
   "cell_type": "code",
   "execution_count": 70,
   "id": "1421cc8f-1f5b-407e-a51e-932abcb9daaf",
   "metadata": {},
   "outputs": [
    {
     "data": {
      "text/html": [
       "FALSE"
      ],
      "text/latex": [
       "FALSE"
      ],
      "text/markdown": [
       "FALSE"
      ],
      "text/plain": [
       "[1] FALSE"
      ]
     },
     "metadata": {},
     "output_type": "display_data"
    },
    {
     "data": {
      "text/html": [
       "TRUE"
      ],
      "text/latex": [
       "TRUE"
      ],
      "text/markdown": [
       "TRUE"
      ],
      "text/plain": [
       "[1] TRUE"
      ]
     },
     "metadata": {},
     "output_type": "display_data"
    },
    {
     "data": {
      "text/html": [
       "FALSE"
      ],
      "text/latex": [
       "FALSE"
      ],
      "text/markdown": [
       "FALSE"
      ],
      "text/plain": [
       "[1] FALSE"
      ]
     },
     "metadata": {},
     "output_type": "display_data"
    },
    {
     "data": {
      "text/html": [
       "TRUE"
      ],
      "text/latex": [
       "TRUE"
      ],
      "text/markdown": [
       "TRUE"
      ],
      "text/plain": [
       "[1] TRUE"
      ]
     },
     "metadata": {},
     "output_type": "display_data"
    },
    {
     "data": {
      "text/html": [
       "FALSE"
      ],
      "text/latex": [
       "FALSE"
      ],
      "text/markdown": [
       "FALSE"
      ],
      "text/plain": [
       "[1] FALSE"
      ]
     },
     "metadata": {},
     "output_type": "display_data"
    },
    {
     "data": {
      "text/html": [
       "TRUE"
      ],
      "text/latex": [
       "TRUE"
      ],
      "text/markdown": [
       "TRUE"
      ],
      "text/plain": [
       "[1] TRUE"
      ]
     },
     "metadata": {},
     "output_type": "display_data"
    }
   ],
   "source": [
    "# Relational operators\n",
    "a == b \n",
    "a < b\n",
    "a > b\n",
    "a <= b\n",
    "a >= b\n",
    "a != b "
   ]
  },
  {
   "cell_type": "code",
   "execution_count": 99,
   "id": "a047f72e-8870-40a5-808c-949f60930c11",
   "metadata": {},
   "outputs": [
    {
     "data": {
      "text/html": [
       "<style>\n",
       ".list-inline {list-style: none; margin:0; padding: 0}\n",
       ".list-inline>li {display: inline-block}\n",
       ".list-inline>li:not(:last-child)::after {content: \"\\00b7\"; padding: 0 .5ex}\n",
       "</style>\n",
       "<ol class=list-inline><li>FALSE</li><li>TRUE</li></ol>\n"
      ],
      "text/latex": [
       "\\begin{enumerate*}\n",
       "\\item FALSE\n",
       "\\item TRUE\n",
       "\\end{enumerate*}\n"
      ],
      "text/markdown": [
       "1. FALSE\n",
       "2. TRUE\n",
       "\n",
       "\n"
      ],
      "text/plain": [
       "[1] FALSE  TRUE"
      ]
     },
     "metadata": {},
     "output_type": "display_data"
    },
    {
     "data": {
      "text/html": [
       "FALSE"
      ],
      "text/latex": [
       "FALSE"
      ],
      "text/markdown": [
       "FALSE"
      ],
      "text/plain": [
       "[1] FALSE"
      ]
     },
     "metadata": {},
     "output_type": "display_data"
    },
    {
     "data": {
      "text/html": [
       "<style>\n",
       ".list-inline {list-style: none; margin:0; padding: 0}\n",
       ".list-inline>li {display: inline-block}\n",
       ".list-inline>li:not(:last-child)::after {content: \"\\00b7\"; padding: 0 .5ex}\n",
       "</style>\n",
       "<ol class=list-inline><li>TRUE</li><li>TRUE</li></ol>\n"
      ],
      "text/latex": [
       "\\begin{enumerate*}\n",
       "\\item TRUE\n",
       "\\item TRUE\n",
       "\\end{enumerate*}\n"
      ],
      "text/markdown": [
       "1. TRUE\n",
       "2. TRUE\n",
       "\n",
       "\n"
      ],
      "text/plain": [
       "[1] TRUE TRUE"
      ]
     },
     "metadata": {},
     "output_type": "display_data"
    },
    {
     "data": {
      "text/html": [
       "TRUE"
      ],
      "text/latex": [
       "TRUE"
      ],
      "text/markdown": [
       "TRUE"
      ],
      "text/plain": [
       "[1] TRUE"
      ]
     },
     "metadata": {},
     "output_type": "display_data"
    }
   ],
   "source": [
    "# Logical operators\n",
    "a = c(TRUE,TRUE)\n",
    "b = c(FALSE,TRUE)\n",
    "c = c(TRUE,TRUE)\n",
    "a & b  # Elmenet-wise logical AND\n",
    "a && b # Short-circuit logical AND\n",
    "a | b  # Elmenet-wise logical OR\n",
    "a || b # Short-circuit logical or "
   ]
  },
  {
   "cell_type": "code",
   "execution_count": 103,
   "id": "70e43d8f-50a7-4080-b8d1-41de1281df2d",
   "metadata": {},
   "outputs": [
    {
     "data": {
      "text/html": [
       "2"
      ],
      "text/latex": [
       "2"
      ],
      "text/markdown": [
       "2"
      ],
      "text/plain": [
       "[1] 2"
      ]
     },
     "metadata": {},
     "output_type": "display_data"
    },
    {
     "data": {
      "text/html": [
       "1.38629436111989"
      ],
      "text/latex": [
       "1.38629436111989"
      ],
      "text/markdown": [
       "1.38629436111989"
      ],
      "text/plain": [
       "[1] 1.386294"
      ]
     },
     "metadata": {},
     "output_type": "display_data"
    },
    {
     "data": {
      "text/html": [
       "0.602059991327962"
      ],
      "text/latex": [
       "0.602059991327962"
      ],
      "text/markdown": [
       "0.602059991327962"
      ],
      "text/plain": [
       "[1] 0.60206"
      ]
     },
     "metadata": {},
     "output_type": "display_data"
    },
    {
     "data": {
      "text/html": [
       "2"
      ],
      "text/latex": [
       "2"
      ],
      "text/markdown": [
       "2"
      ],
      "text/plain": [
       "[1] 2"
      ]
     },
     "metadata": {},
     "output_type": "display_data"
    },
    {
     "data": {
      "text/html": [
       "54.5981500331442"
      ],
      "text/latex": [
       "54.5981500331442"
      ],
      "text/markdown": [
       "54.5981500331442"
      ],
      "text/plain": [
       "[1] 54.59815"
      ]
     },
     "metadata": {},
     "output_type": "display_data"
    }
   ],
   "source": [
    "# root and logarithm\n",
    "a = 4\n",
    "sqrt(a)\n",
    "log(a)\n",
    "log10(a)\n",
    "log2(a)\n",
    "exp(a)"
   ]
  },
  {
   "cell_type": "code",
   "execution_count": 116,
   "id": "a75e7181-ae95-4eef-991a-504dcc893272",
   "metadata": {},
   "outputs": [
    {
     "data": {
      "text/html": [
       "1.2988"
      ],
      "text/latex": [
       "1.2988"
      ],
      "text/markdown": [
       "1.2988"
      ],
      "text/plain": [
       "[1] 1.2988"
      ]
     },
     "metadata": {},
     "output_type": "display_data"
    },
    {
     "data": {
      "text/html": [
       "2"
      ],
      "text/latex": [
       "2"
      ],
      "text/markdown": [
       "2"
      ],
      "text/plain": [
       "[1] 2"
      ]
     },
     "metadata": {},
     "output_type": "display_data"
    },
    {
     "data": {
      "text/html": [
       "1"
      ],
      "text/latex": [
       "1"
      ],
      "text/markdown": [
       "1"
      ],
      "text/plain": [
       "[1] 1"
      ]
     },
     "metadata": {},
     "output_type": "display_data"
    }
   ],
   "source": [
    "# Round off\n",
    "a = 1.29879\n",
    "round(a, digits = 4)\n",
    "ceiling(a)\n",
    "floor(a)"
   ]
  },
  {
   "cell_type": "code",
   "execution_count": 119,
   "id": "7153fc69-33f3-4395-8094-07ed7ace217f",
   "metadata": {},
   "outputs": [
    {
     "data": {
      "text/html": [
       "3.14159265358979"
      ],
      "text/latex": [
       "3.14159265358979"
      ],
      "text/markdown": [
       "3.14159265358979"
      ],
      "text/plain": [
       "[1] 3.141593"
      ]
     },
     "metadata": {},
     "output_type": "display_data"
    },
    {
     "data": {
      "text/html": [
       "2.71828182845905"
      ],
      "text/latex": [
       "2.71828182845905"
      ],
      "text/markdown": [
       "2.71828182845905"
      ],
      "text/plain": [
       "[1] 2.718282"
      ]
     },
     "metadata": {},
     "output_type": "display_data"
    }
   ],
   "source": [
    "#  Mathematical constants\n",
    "pi \n",
    "exp(1)"
   ]
  },
  {
   "cell_type": "markdown",
   "id": "9a1ead37-ed0d-49f1-9034-d554e6cae400",
   "metadata": {},
   "source": [
    "## dplyr and ggplot2 similarity "
   ]
  },
  {
   "cell_type": "code",
   "execution_count": 4,
   "id": "585e6e14-78f3-472f-8119-8825a95977e8",
   "metadata": {},
   "outputs": [
    {
     "data": {
      "text/html": [
       "<ol>\n",
       "\t<li><style>\n",
       ".list-inline {list-style: none; margin:0; padding: 0}\n",
       ".list-inline>li {display: inline-block}\n",
       ".list-inline>li:not(:last-child)::after {content: \"\\00b7\"; padding: 0 .5ex}\n",
       "</style>\n",
       "<ol class=list-inline><li>'dplyr'</li><li>'stats'</li><li>'graphics'</li><li>'grDevices'</li><li>'utils'</li><li>'datasets'</li><li>'methods'</li><li>'base'</li></ol>\n",
       "</li>\n",
       "\t<li><style>\n",
       ".list-inline {list-style: none; margin:0; padding: 0}\n",
       ".list-inline>li {display: inline-block}\n",
       ".list-inline>li:not(:last-child)::after {content: \"\\00b7\"; padding: 0 .5ex}\n",
       "</style>\n",
       "<ol class=list-inline><li>'ggplot2'</li><li>'dplyr'</li><li>'stats'</li><li>'graphics'</li><li>'grDevices'</li><li>'utils'</li><li>'datasets'</li><li>'methods'</li><li>'base'</li></ol>\n",
       "</li>\n",
       "</ol>\n"
      ],
      "text/latex": [
       "\\begin{enumerate}\n",
       "\\item \\begin{enumerate*}\n",
       "\\item 'dplyr'\n",
       "\\item 'stats'\n",
       "\\item 'graphics'\n",
       "\\item 'grDevices'\n",
       "\\item 'utils'\n",
       "\\item 'datasets'\n",
       "\\item 'methods'\n",
       "\\item 'base'\n",
       "\\end{enumerate*}\n",
       "\n",
       "\\item \\begin{enumerate*}\n",
       "\\item 'ggplot2'\n",
       "\\item 'dplyr'\n",
       "\\item 'stats'\n",
       "\\item 'graphics'\n",
       "\\item 'grDevices'\n",
       "\\item 'utils'\n",
       "\\item 'datasets'\n",
       "\\item 'methods'\n",
       "\\item 'base'\n",
       "\\end{enumerate*}\n",
       "\n",
       "\\end{enumerate}\n"
      ],
      "text/markdown": [
       "1. 1. 'dplyr'\n",
       "2. 'stats'\n",
       "3. 'graphics'\n",
       "4. 'grDevices'\n",
       "5. 'utils'\n",
       "6. 'datasets'\n",
       "7. 'methods'\n",
       "8. 'base'\n",
       "\n",
       "\n",
       "\n",
       "2. 1. 'ggplot2'\n",
       "2. 'dplyr'\n",
       "3. 'stats'\n",
       "4. 'graphics'\n",
       "5. 'grDevices'\n",
       "6. 'utils'\n",
       "7. 'datasets'\n",
       "8. 'methods'\n",
       "9. 'base'\n",
       "\n",
       "\n",
       "\n",
       "\n",
       "\n"
      ],
      "text/plain": [
       "[[1]]\n",
       "[1] \"dplyr\"     \"stats\"     \"graphics\"  \"grDevices\" \"utils\"     \"datasets\" \n",
       "[7] \"methods\"   \"base\"     \n",
       "\n",
       "[[2]]\n",
       "[1] \"ggplot2\"   \"dplyr\"     \"stats\"     \"graphics\"  \"grDevices\" \"utils\"    \n",
       "[7] \"datasets\"  \"methods\"   \"base\"     \n"
      ]
     },
     "metadata": {},
     "output_type": "display_data"
    }
   ],
   "source": [
    "# import pandas as pd \n",
    "Packages <- c(\"dplyr\", \"ggplot2\")\n",
    "lapply(Packages, library, character.only = TRUE)"
   ]
  },
  {
   "cell_type": "code",
   "execution_count": 6,
   "id": "1daee6fc-6363-4535-b5f1-0067f0de200b",
   "metadata": {},
   "outputs": [
    {
     "data": {
      "text/html": [
       "<table class=\"dataframe\">\n",
       "<caption>A data.frame: 6 × 4</caption>\n",
       "<thead>\n",
       "\t<tr><th></th><th scope=col>rad</th><th scope=col>temp</th><th scope=col>wind</th><th scope=col>ozone</th></tr>\n",
       "\t<tr><th></th><th scope=col>&lt;int&gt;</th><th scope=col>&lt;int&gt;</th><th scope=col>&lt;dbl&gt;</th><th scope=col>&lt;int&gt;</th></tr>\n",
       "</thead>\n",
       "<tbody>\n",
       "\t<tr><th scope=row>1</th><td>190</td><td>67</td><td> 7.4</td><td>41</td></tr>\n",
       "\t<tr><th scope=row>2</th><td>118</td><td>72</td><td> 8.0</td><td>36</td></tr>\n",
       "\t<tr><th scope=row>3</th><td>149</td><td>74</td><td>12.6</td><td>12</td></tr>\n",
       "\t<tr><th scope=row>4</th><td>313</td><td>62</td><td>11.5</td><td>18</td></tr>\n",
       "\t<tr><th scope=row>5</th><td>299</td><td>65</td><td> 8.6</td><td>23</td></tr>\n",
       "\t<tr><th scope=row>6</th><td> 99</td><td>59</td><td>13.8</td><td>19</td></tr>\n",
       "</tbody>\n",
       "</table>\n"
      ],
      "text/latex": [
       "A data.frame: 6 × 4\n",
       "\\begin{tabular}{r|llll}\n",
       "  & rad & temp & wind & ozone\\\\\n",
       "  & <int> & <int> & <dbl> & <int>\\\\\n",
       "\\hline\n",
       "\t1 & 190 & 67 &  7.4 & 41\\\\\n",
       "\t2 & 118 & 72 &  8.0 & 36\\\\\n",
       "\t3 & 149 & 74 & 12.6 & 12\\\\\n",
       "\t4 & 313 & 62 & 11.5 & 18\\\\\n",
       "\t5 & 299 & 65 &  8.6 & 23\\\\\n",
       "\t6 &  99 & 59 & 13.8 & 19\\\\\n",
       "\\end{tabular}\n"
      ],
      "text/markdown": [
       "\n",
       "A data.frame: 6 × 4\n",
       "\n",
       "| <!--/--> | rad &lt;int&gt; | temp &lt;int&gt; | wind &lt;dbl&gt; | ozone &lt;int&gt; |\n",
       "|---|---|---|---|---|\n",
       "| 1 | 190 | 67 |  7.4 | 41 |\n",
       "| 2 | 118 | 72 |  8.0 | 36 |\n",
       "| 3 | 149 | 74 | 12.6 | 12 |\n",
       "| 4 | 313 | 62 | 11.5 | 18 |\n",
       "| 5 | 299 | 65 |  8.6 | 23 |\n",
       "| 6 |  99 | 59 | 13.8 | 19 |\n",
       "\n"
      ],
      "text/plain": [
       "  rad temp wind ozone\n",
       "1 190 67    7.4 41   \n",
       "2 118 72    8.0 36   \n",
       "3 149 74   12.6 12   \n",
       "4 313 62   11.5 18   \n",
       "5 299 65    8.6 23   \n",
       "6  99 59   13.8 19   "
      ]
     },
     "metadata": {},
     "output_type": "display_data"
    }
   ],
   "source": [
    "# Reading data\n",
    "df <- read.csv(\"./ozone.data.csv\")\n",
    "head(df)"
   ]
  },
  {
   "cell_type": "code",
   "execution_count": 30,
   "id": "d1e4eb07-a0d3-43e4-8584-e2a18ac72b4f",
   "metadata": {},
   "outputs": [
    {
     "name": "stdout",
     "output_type": "stream",
     "text": [
      " [1] 190 118 149 313 299  99  19 256 290 274  65 334 307  78 322  44   8 320  25\n",
      "[20]  92  13 252 223 279 127 291 323 148 191 284  37 120 137 269 248 236 175 314\n",
      "[39] 276 267 272 264  48 260 285 187 220   7 294  81  82 213 275 253 254  83  24\n",
      "[58]  77 255 229 207 192 273 157  71  51 115 244 259  36 212 238 215 203 225 237\n",
      "[77] 188 167 197 183 189  95 230 112 224  27 201  14 139  49  20 193 131\n"
     ]
    }
   ],
   "source": [
    "# list unique strings\n",
    "# df[\"rad\"].unique()\n",
    "uni = unique(df$rad)\n",
    "uni = df[,\"rad\"] %>% unique\n",
    "print(uni)"
   ]
  },
  {
   "cell_type": "code",
   "execution_count": 36,
   "id": "566d3b21-35cd-436a-a29d-cd3c04b4106f",
   "metadata": {},
   "outputs": [],
   "source": [
    "# length of unique\n",
    "# len(df[\"rad\"].unique())\n",
    "len = df$rad %>% unique %>% length\n",
    "len = df %>% select(rad) %>% unique %>% nrow"
   ]
  },
  {
   "cell_type": "code",
   "execution_count": 44,
   "id": "4b925e97-54c3-485f-aadf-907fe70fab66",
   "metadata": {},
   "outputs": [
    {
     "data": {
      "text/plain": [
       "\n",
       "238 175 223 259  24  92 190 191 220 236 237 252 274   7   8  13  14  19  20  25 \n",
       "  4   3   3   3   2   2   2   2   2   2   2   2   2   1   1   1   1   1   1   1 \n",
       " 27  36  37  44  48  49  51  65  71  77  78  81  82  83  95  99 112 115 118 120 \n",
       "  1   1   1   1   1   1   1   1   1   1   1   1   1   1   1   1   1   1   1   1 \n",
       "127 131 137 139 148 149 157 167 183 187 188 189 192 193 197 201 203 207 212 213 \n",
       "  1   1   1   1   1   1   1   1   1   1   1   1   1   1   1   1   1   1   1   1 \n",
       "215 224 225 229 230 244 248 253 254 255 256 260 264 267 269 272 273 275 276 279 \n",
       "  1   1   1   1   1   1   1   1   1   1   1   1   1   1   1   1   1   1   1   1 \n",
       "284 285 290 291 294 299 307 313 314 320 322 323 334 \n",
       "  1   1   1   1   1   1   1   1   1   1   1   1   1 "
      ]
     },
     "metadata": {},
     "output_type": "display_data"
    }
   ],
   "source": [
    "# Counting occurrences \n",
    "# df[\"rad\"].value_counts()\n",
    "table(df$rad) %>% sort(decreasing=TRUE) # like python value_counts()"
   ]
  },
  {
   "cell_type": "code",
   "execution_count": null,
   "id": "dd80f81a-a571-40be-a383-d8ca280ae055",
   "metadata": {},
   "outputs": [],
   "source": []
  }
 ],
 "metadata": {
  "kernelspec": {
   "display_name": "R",
   "language": "R",
   "name": "ir"
  },
  "language_info": {
   "codemirror_mode": "r",
   "file_extension": ".r",
   "mimetype": "text/x-r-source",
   "name": "R",
   "pygments_lexer": "r",
   "version": "4.1.2"
  }
 },
 "nbformat": 4,
 "nbformat_minor": 5
}
